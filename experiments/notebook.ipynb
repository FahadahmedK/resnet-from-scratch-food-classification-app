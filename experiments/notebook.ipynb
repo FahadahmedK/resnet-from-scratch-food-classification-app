{
 "cells": [
  {
   "cell_type": "code",
   "execution_count": null,
   "metadata": {
    "collapsed": true
   },
   "outputs": [],
   "source": [
    "import torch\n",
    "from src.architecture import ResNet18\n",
    "from src.preprocess import imgshow, preprocess_images\n",
    "from src.utils import load_yaml_config\n",
    "\n",
    "device = torch.device(\"cuda\" if torch.cuda.is_available() else \"cpu\")"
   ]
  },
  {
   "cell_type": "code",
   "execution_count": null,
   "outputs": [],
   "source": [
    "config = load_yaml_config('../configs/preprocess.yaml')\n",
    "\n",
    "data_dir = '../data/raw'\n",
    "output_dir = '../data/processed'\n",
    "batch_size = config[\"batch_size\"]\n",
    "train_loader = preprocess_images(data_dir=data_dir, output_dir=output_dir, batch_size=batch_size,is_train=True,save=False)\n",
    "val_loader = preprocess_images(data_dir=data_dir, output_dir=output_dir, batch_size=batch_size,is_train=False,save=False)"
   ],
   "metadata": {
    "collapsed": false
   }
  },
  {
   "cell_type": "code",
   "execution_count": null,
   "outputs": [],
   "source": [
    "import torch.optim as optim\n",
    "import torch.nn as nn\n",
    "from src.train import train_model\n",
    "\n",
    "config = load_yaml_config('../configs/train.yaml')\n",
    "learning_rate = config[\"learning_rate\"]\n",
    "num_epochs = config[\"num_epochs\"]\n",
    "num_classes = config[\"num_classes\"]\n",
    "model_name = config[\"model_name\"]\n",
    "model_path = config[\"model_path\"]\n",
    "\n",
    "model = ResNet18(num_classes=num_classes)\n",
    "model.to(device)\n",
    "\n",
    "log_dir = config[\"log_dir\"]\n",
    "criterion = nn.CrossEntropyLoss()\n",
    "optimizer = optim.Adam(model.parameters(), lr=learning_rate)\n",
    "scheduler = optim.lr_scheduler.StepLR(optimizer, step_size=10, gamma=0.1)\n",
    "\n",
    "train_model(num_epochs, model, train_loader, val_loader, criterion, optimizer, scheduler, device, log_dir, model_path, model_name)\n"
   ],
   "metadata": {
    "collapsed": false
   }
  },
  {
   "cell_type": "code",
   "execution_count": null,
   "outputs": [],
   "source": [],
   "metadata": {
    "collapsed": false
   }
  },
  {
   "cell_type": "code",
   "execution_count": null,
   "outputs": [],
   "source": [],
   "metadata": {
    "collapsed": false
   }
  }
 ],
 "metadata": {
  "kernelspec": {
   "display_name": "Python 3",
   "language": "python",
   "name": "python3"
  },
  "language_info": {
   "codemirror_mode": {
    "name": "ipython",
    "version": 2
   },
   "file_extension": ".py",
   "mimetype": "text/x-python",
   "name": "python",
   "nbconvert_exporter": "python",
   "pygments_lexer": "ipython2",
   "version": "2.7.6"
  }
 },
 "nbformat": 4,
 "nbformat_minor": 0
}
