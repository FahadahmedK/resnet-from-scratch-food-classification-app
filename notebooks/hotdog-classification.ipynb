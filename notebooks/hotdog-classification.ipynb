{
 "cells": [
  {
   "cell_type": "code",
   "execution_count": 2,
   "metadata": {},
   "outputs": [],
   "source": [
    "import os\n",
    "from pathlib import Path\n",
    "\n",
    "p = Path(os.getcwd())\n",
    "if os.path.split(os.getcwd())[-1] != 'resnet-from-scratch-for-hotdog-classification-app':\n",
    "    os.chdir(p.parent)"
   ]
  },
  {
   "cell_type": "code",
   "execution_count": 3,
   "metadata": {},
   "outputs": [],
   "source": [
    "from src.architecture import ResNet18\n",
    "from src.preprocess import transform, imgshow"
   ]
  },
  {
   "cell_type": "code",
   "execution_count": 4,
   "metadata": {},
   "outputs": [],
   "source": [
    "train_data, test_data = transform('data/raw')"
   ]
  },
  {
   "cell_type": "code",
   "execution_count": 5,
   "metadata": {},
   "outputs": [
    {
     "data": {
      "text/plain": [
       "498"
      ]
     },
     "execution_count": 5,
     "metadata": {},
     "output_type": "execute_result"
    }
   ],
   "source": [
    "len(train_data.imgs)"
   ]
  },
  {
   "cell_type": "code",
   "execution_count": 7,
   "metadata": {},
   "outputs": [
    {
     "ename": "AttributeError",
     "evalue": "'super' object has no attribute '_ResNet__init'",
     "output_type": "error",
     "traceback": [
      "\u001b[0;31m---------------------------------------------------------------------------\u001b[0m",
      "\u001b[0;31mAttributeError\u001b[0m                            Traceback (most recent call last)",
      "Cell \u001b[0;32mIn[7], line 1\u001b[0m\n\u001b[0;32m----> 1\u001b[0m ResNet18()\n",
      "File \u001b[0;32m/mnt/c/users/fahad/self-study/mlprojects/resnet-from-scratch-for-hotdog-classification-app/src/architecture.py:96\u001b[0m, in \u001b[0;36mResNet18.__init__\u001b[0;34m(self, num_classes)\u001b[0m\n\u001b[1;32m     95\u001b[0m \u001b[39mdef\u001b[39;00m \u001b[39m__init__\u001b[39m(\u001b[39mself\u001b[39m, num_classes\u001b[39m=\u001b[39m\u001b[39m2\u001b[39m):\n\u001b[0;32m---> 96\u001b[0m     \u001b[39msuper\u001b[39;49m()\u001b[39m.\u001b[39;49m\u001b[39m__init__\u001b[39;49m(((\u001b[39m2\u001b[39;49m, \u001b[39m64\u001b[39;49m), (\u001b[39m2\u001b[39;49m, \u001b[39m128\u001b[39;49m), (\u001b[39m2\u001b[39;49m, \u001b[39m256\u001b[39;49m), (\u001b[39m2\u001b[39;49m, \u001b[39m512\u001b[39;49m)), num_classes\u001b[39m=\u001b[39;49mnum_classes)\n",
      "File \u001b[0;32m/mnt/c/users/fahad/self-study/mlprojects/resnet-from-scratch-for-hotdog-classification-app/src/architecture.py:48\u001b[0m, in \u001b[0;36mResNet.__init__\u001b[0;34m(self, arch_config, input_channels, num_classes)\u001b[0m\n\u001b[1;32m     46\u001b[0m \u001b[39mdef\u001b[39;00m \u001b[39m__init__\u001b[39m(\u001b[39mself\u001b[39m, arch_config, input_channels\u001b[39m=\u001b[39m\u001b[39m3\u001b[39m, num_classes\u001b[39m=\u001b[39m\u001b[39m2\u001b[39m):\n\u001b[0;32m---> 48\u001b[0m     \u001b[39msuper\u001b[39;49m()\u001b[39m.\u001b[39;49m__init()\n\u001b[1;32m     50\u001b[0m     \u001b[39mself\u001b[39m\u001b[39m.\u001b[39mnet \u001b[39m=\u001b[39m nn\u001b[39m.\u001b[39mSequential()\n\u001b[1;32m     51\u001b[0m     \u001b[39mself\u001b[39m\u001b[39m.\u001b[39mnet\u001b[39m.\u001b[39madd_module(nn\u001b[39m.\u001b[39mSequential(\n\u001b[1;32m     52\u001b[0m         nn\u001b[39m.\u001b[39mConv2d(\n\u001b[1;32m     53\u001b[0m             in_channels\u001b[39m=\u001b[39minput_channels,\n\u001b[0;32m   (...)\u001b[0m\n\u001b[1;32m     65\u001b[0m         )\n\u001b[1;32m     66\u001b[0m     )\n",
      "\u001b[0;31mAttributeError\u001b[0m: 'super' object has no attribute '_ResNet__init'"
     ]
    }
   ],
   "source": [
    "ResNet18()"
   ]
  },
  {
   "cell_type": "code",
   "execution_count": null,
   "metadata": {},
   "outputs": [],
   "source": []
  }
 ],
 "metadata": {
  "kernelspec": {
   "display_name": ".venv",
   "language": "python",
   "name": "python3"
  },
  "language_info": {
   "codemirror_mode": {
    "name": "ipython",
    "version": 3
   },
   "file_extension": ".py",
   "mimetype": "text/x-python",
   "name": "python",
   "nbconvert_exporter": "python",
   "pygments_lexer": "ipython3",
   "version": "3.10.6"
  },
  "orig_nbformat": 4
 },
 "nbformat": 4,
 "nbformat_minor": 2
}
